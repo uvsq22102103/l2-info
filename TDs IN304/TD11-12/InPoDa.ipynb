{
 "cells": [
  {
   "cell_type": "code",
   "execution_count": 66,
   "metadata": {},
   "outputs": [],
   "source": [
    "import json\n",
    "from textblob import TextBlob\n",
    "import re"
   ]
  },
  {
   "cell_type": "code",
   "execution_count": 67,
   "metadata": {},
   "outputs": [],
   "source": [
    "class Tweet():\n",
    "    def __init__(self,data:dict):\n",
    "        self.text = data['text']\n",
    "        self.cleaned_text = data['text']\n",
    "        self.author = data['author_id']\n",
    "        self.hashtags = []\n",
    "        self.urls = []\n",
    "        self.mentions = []\n",
    "        if 'entities' in data.keys():\n",
    "            if 'hashtags' in data['entities']:\n",
    "                for i in data['entities']['hashtags']:\n",
    "                    if i['tag'] not in self.hashtags:\n",
    "                        self.hashtags.append(i['tag'])\n",
    "                        self.cleaned_text = self.cleaned_text.replace(i['tag'],'')\n",
    "            if 'urls' in data['entities']:\n",
    "                for i in data['entities']['urls']:\n",
    "                    if i['url'] not in self.urls:\n",
    "                        self.urls.append(i['url'])\n",
    "                        self.cleaned_text = self.cleaned_text.replace(i['url'],'')\n",
    "            if 'mentions' in data['entities']:\n",
    "                for i in data['entities']['mentions']:\n",
    "                    if i['id'] not in self.mentions:\n",
    "                        self.mentions.append(i['id'])\n",
    "                        self.cleaned_text = self.cleaned_text.replace(i['username'],'')\n",
    "        self.cleaned_text = ''.join(e for e in self.cleaned_text if e.isalnum() or e.isspace())\n",
    "        self.textblob = TextBlob(self.cleaned_text)\n",
    "        self.sentiment = self.textblob.sentiment\n",
    "        self.topics = list(self.textblob.noun_phrases)"
   ]
  },
  {
   "cell_type": "code",
   "execution_count": 68,
   "metadata": {},
   "outputs": [],
   "source": [
    "class InPoDa():\n",
    "\n",
    "    def __init__(self, json_path):\n",
    "        with open(json_path) as f:\n",
    "            self.json = json.load(f)\n",
    "        self.TweetData = []\n",
    "        for i in self.json:\n",
    "            self.TweetData.append(Tweet(i))\n",
    "        self.pub_per_users = {}\n",
    "        self.pub_per_tag = {}\n",
    "        self.pub_per_topic = {}\n",
    "        for i in self.TweetData:\n",
    "            if i.author in self.pub_per_users.keys():\n",
    "                self.pub_per_users[i.author] += 1\n",
    "            else:\n",
    "                self.pub_per_users[i.author] = 1\n",
    "            for tag in i.hashtags:\n",
    "                if tag in self.pub_per_tag.keys():\n",
    "                    self.pub_per_tag[tag] += 1\n",
    "                else:\n",
    "                    self.pub_per_tag[tag] = 1\n",
    "            for topic in i.topics:\n",
    "                if topic in self.pub_per_topic.keys():\n",
    "                    self.pub_per_topic[topic] += 1\n",
    "                else:\n",
    "                    self.pub_per_topic[topic] = 1\n",
    "\n",
    "    \n",
    "    def top_k_hashtags(self,k):\n",
    "        return sorted(self.pub_per_tag.items(), key=lambda x:x[1],reverse=True)[:k]\n",
    "    \n",
    "    def top_k_user(self,k):\n",
    "        return sorted(self.pub_per_users.items(), key=lambda x:x[1],reverse=True)[:k]\n",
    "    \n",
    "    def top_k_mentionned_user(self,k):\n",
    "        mentions = {}\n",
    "        for tweet in self.TweetData:\n",
    "            for user in tweet.mentions:\n",
    "                if user in mentions.keys():\n",
    "                    mentions[user] += 1\n",
    "                else:\n",
    "                    mentions[user] = 1\n",
    "        return sorted(mentions.items(), key=lambda x:x[1],reverse=True)[:k]\n",
    "    \n",
    "    def top_k_topic(self,k):\n",
    "        return sorted(self.pub_per_topic.items(), key=lambda x:x[1],reverse=True)[:k]\n",
    "    \n",
    "    def get_user_tweets(self,user_id:str):\n",
    "        output = []\n",
    "        for tweet in self.TweetData:\n",
    "            if tweet.author == user_id:\n",
    "                output.append(tweet)\n",
    "        return output\n",
    "    \n",
    "    def get_tweets_user_mentionned(self,user_id:str):\n",
    "        output = []\n",
    "        for tweet in self.TweetData:\n",
    "            for m_id in tweet.mentions:\n",
    "                if m_id == user_id:\n",
    "                    output.append(tweet)\n",
    "        return output\n",
    "    \n",
    "    def get_users_by_hashtag(self,tag:str):\n",
    "        output = {}\n",
    "        for tweet in self.TweetData:\n",
    "            for hashtag in tweet.hashtags:\n",
    "                if tag == hashtag:\n",
    "                    if tweet.author not in output.keys():\n",
    "                        output[tweet.author] = 1\n",
    "                    else:\n",
    "                        output[tweet.author] += 1\n",
    "        return output\n",
    "    \n",
    "    def get_author_mentions(self,user_id:str):\n",
    "        output = {}\n",
    "        for tweet in self.TweetData:\n",
    "            if tweet.author == user_id:\n",
    "                for m in tweet.mentions:\n",
    "                    if m not in output.keys():\n",
    "                        output[m] = 1\n",
    "                    else:\n",
    "                        output[m] += 1\n",
    "        return output\n"
   ]
  },
  {
   "cell_type": "code",
   "execution_count": 69,
   "metadata": {},
   "outputs": [],
   "source": [
    "instance1 = InPoDa('versailles_tweets_100.json')"
   ]
  },
  {
   "cell_type": "code",
   "execution_count": 70,
   "metadata": {},
   "outputs": [
    {
     "name": "stdout",
     "output_type": "stream",
     "text": [
      "[('1339914264522461187', 4), ('992904738516717570', 4), ('717025418', 2), ('3169236915', 2), ('372993152', 2)]\n",
      "[('CIV', 2), ('twitter225', 1), ('SupportriceMazo', 1), ('domie', 1), ('jifa', 1)]\n",
      "[('3200704501', 3), ('19811019', 2), ('4827016745', 1), ('254068589', 1), ('781489936184651776', 1)]\n",
      "[('versailles', 4), ('goumin', 1), ('des éléphants joueurs', 1), ('même fatigue même', 1), ('mes tontons vous avez fait votre part', 1)]\n",
      "{'1339914264522461187': 4, '717025418': 2, '992904738516717570': 4, '736523371': 1, '1471684208': 1, '3169236915': 2, '16267684': 1, '60117154': 1, '372993152': 2, '105241852': 1, '2357913366': 1}\n",
      "{'twitter225': 1, 'SupportriceMazo': 1, 'domie': 1, 'CIV': 2, 'jifa': 1, 'versailles': 1, 'nocturne': 1, 'appollon': 1}\n",
      "{'goumin': 1, 'des éléphants joueurs': 1, 'même fatigue même': 1, 'mes tontons vous avez fait votre part': 1, 'jo': 1, 'final au moins': 1, 'bravo': 1, 'à vous': 1, 'sommeil là sera compliqué est éliminé des': 1, 'jo ahi': 1, 'peut faire ça': 1, 'juillet journée internationale': 1, 'femme africaine': 1, 'vous': 1, 'avez tt à fait raison': 1, 'silence incompréhensible du gouvernoument': 1, 'des merdias sur ce très': 1, 'dramatique sujet prouve': 1, 'irréfutable leur implication à ce plan diabolique maquillé': 1, 'grande muette': 1, 'rester à part quelques irréductibles à': 1, 'les': 1, 'bains dapollon à': 1, 'château': 1, 'versailles': 4, 'rdv aujourdhui aura tenu ses promesses': 1, 'pour': 1, 'les problèmes': 1, 'cachet à': 1, 'je dors comme un bébé': 1, 'réveil': 1, 'pleine forme assuré': 1, 'et': 1, 'sans acoutumances pas comme avec ces béquilles chimiques': 1, 'bonne': 1, 'julie': 1, 'il est temps': 1, 'laisser mijoter': 1, 'un': 1, 'mouton cest bien': 1, 'intelligent que toi': 1, 'im': 1, 'gardens': 1, 'jungle cruise ugc cyrano': 1, 'vient': 1, 'photo à': 1, 'quelquepart': 1, 'lovers accomplice': 1, 'gardien lui parle non': 1}\n",
      "[<__main__.Tweet object at 0x7fee876bfac0>, <__main__.Tweet object at 0x7feeac2977c0>, <__main__.Tweet object at 0x7fee874fc940>, <__main__.Tweet object at 0x7fee874ff1c0>]\n",
      "[<__main__.Tweet object at 0x7fee876bfac0>, <__main__.Tweet object at 0x7feeac2977c0>, <__main__.Tweet object at 0x7fee874fc940>]\n",
      "{'1339914264522461187': 2}\n",
      "{'781489936184651776': 1, '3200704501': 3, '1246352652700659713': 1, '1355767640036438016': 1, '1071056487278104577': 1, '4216955975': 1}\n"
     ]
    }
   ],
   "source": [
    "print(instance1.top_k_user(5))\n",
    "print(instance1.top_k_hashtags(5))\n",
    "print(instance1.top_k_mentionned_user(5))\n",
    "print(instance1.top_k_topic(5))\n",
    "print(instance1.pub_per_users)\n",
    "print(instance1.pub_per_tag)\n",
    "print(instance1.pub_per_topic)\n",
    "print(instance1.get_user_tweets('992904738516717570'))\n",
    "print(instance1.get_tweets_user_mentionned('3200704501'))\n",
    "print(instance1.get_users_by_hashtag('CIV'))\n",
    "print(instance1.get_author_mentions('992904738516717570'))"
   ]
  }
 ],
 "metadata": {
  "kernelspec": {
   "display_name": "Python 3.10.6 64-bit",
   "language": "python",
   "name": "python3"
  },
  "language_info": {
   "codemirror_mode": {
    "name": "ipython",
    "version": 3
   },
   "file_extension": ".py",
   "mimetype": "text/x-python",
   "name": "python",
   "nbconvert_exporter": "python",
   "pygments_lexer": "ipython3",
   "version": "3.10.6"
  },
  "orig_nbformat": 4,
  "vscode": {
   "interpreter": {
    "hash": "31f2aee4e71d21fbe5cf8b01ff0e069b9275f58929596ceb00d14d90e3e16cd6"
   }
  }
 },
 "nbformat": 4,
 "nbformat_minor": 2
}
