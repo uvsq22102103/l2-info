{
 "cells": [
  {
   "cell_type": "markdown",
   "metadata": {},
   "source": [
    "## Projet InPoDa :\n",
    "Dans le câdre du TD11-12 nous devions travailler sur un programme permettant de fournir de la statistique sur des tweet récupérés sous format *json*."
   ]
  },
  {
   "cell_type": "code",
   "execution_count": 29,
   "metadata": {},
   "outputs": [],
   "source": [
    "#############################\n",
    "### Import des librairies ###\n",
    "import json, re\n",
    "from textblob import TextBlob\n",
    "import tkinter as tk\n",
    "from tkinter import filedialog\n",
    "import matplotlib #pas encore utilisé\n",
    "#############################"
   ]
  },
  {
   "cell_type": "code",
   "execution_count": 30,
   "metadata": {},
   "outputs": [],
   "source": [
    "###############################################################\n",
    "###########################Fonctions###########################\n",
    "def Tweet(data:dict):\n",
    "    '''Prend un tweet sous format dictionnaire.\\n \n",
    "    Procède à un tri des informations pour ne garder que l'essentiel.\\n\n",
    "    Renvoi un nouveau dictionnaire avec des données prêtes à l'emploi. '''\n",
    "    self = {}\n",
    "    self['text'] = data['text']\n",
    "    self['cleaned_text'] = data['text']\n",
    "    self['author'] = data['author_id']\n",
    "    self['hashtags'] = []\n",
    "    self['urls'] = []\n",
    "    self['mentions'] = []\n",
    "    if 'entities' in data.keys():\n",
    "        if 'hashtags' in data['entities']:\n",
    "            for i in data['entities']['hashtags']:\n",
    "                if i['tag'] not in self['hashtags']:\n",
    "                    self['hashtags'].append(i['tag'])\n",
    "        if 'urls' in data['entities']:\n",
    "            for i in data['entities']['urls']:\n",
    "                if i['url'] not in self['urls']: \n",
    "                    self['urls'].append(i['url'])\n",
    "                    self['cleaned_text'] = self['cleaned_text'].replace(i['url'],'')\n",
    "        if 'mentions' in data['entities']:\n",
    "            for i in data['entities']['mentions']:\n",
    "                if i['id'] not in self['mentions']:\n",
    "                    self['mentions'].append(i['id'])\n",
    "    self['cleaned_text'] = re.sub(r'#\\w+|@\\w+|[^a-zA-Zàâçéèêëîïôûùüæœ\\d\\s]','',self['cleaned_text'])\n",
    "    self['textblob'] = TextBlob(self['cleaned_text'])\n",
    "    self['sentiment'] = self['textblob'].sentiment\n",
    "    self['topics'] = list(self['textblob'].noun_phrases)\n",
    "    return self\n",
    "###############################################################"
   ]
  },
  {
   "cell_type": "code",
   "execution_count": 31,
   "metadata": {},
   "outputs": [],
   "source": [
    "class InPoDa():\n",
    "    def __init__(self, json_path):\n",
    "        '''# Utilité :\\n\n",
    "        Permet d'initialiser une instance InPoDa selon un json\n",
    "        contenant des tweets, vous pouvez ensuite appeler ses différentes méthodes\n",
    "        pour accèder à différent stats.'''\n",
    "        with open(json_path) as f:\n",
    "            self.json = json.load(f)\n",
    "        self.TweetData = []\n",
    "        for raw in self.json:\n",
    "            self.TweetData.append(Tweet(raw))\n",
    "        self.pub_per_users = {}\n",
    "        self.pub_per_tag = {}\n",
    "        self.pub_per_topic = {}\n",
    "        for i in self.TweetData:\n",
    "            if i['author'] in self.pub_per_users.keys():\n",
    "                self.pub_per_users[i['author']] += 1\n",
    "            else:\n",
    "                self.pub_per_users[i['author']] = 1\n",
    "            for tag in i['hashtags']:\n",
    "                if tag in self.pub_per_tag.keys():\n",
    "                    self.pub_per_tag[tag] += 1\n",
    "                else:\n",
    "                    self.pub_per_tag[tag] = 1\n",
    "            for topic in i['topics']:\n",
    "                if topic in self.pub_per_topic.keys():\n",
    "                    self.pub_per_topic[topic] += 1\n",
    "                else:\n",
    "                    self.pub_per_topic[topic] = 1\n",
    "\n",
    "    \n",
    "    def top_k_hashtags(self,k):\n",
    "        '''Retourne le top k des Hashtags les plus utilisés dans l'instance'''\n",
    "        return sorted(self.pub_per_tag.items(), key=lambda x:x[1],reverse=True)[:k]\n",
    "    \n",
    "    def top_k_user(self,k):\n",
    "        '''Retourne le top k des utilisateurs les plus actifs dans l'instance'''\n",
    "        return sorted(self.pub_per_users.items(), key=lambda x:x[1],reverse=True)[:k]\n",
    "    \n",
    "    def top_k_mentionned_user(self,k):\n",
    "        '''Retourne le top k des utilisateurs les plus mentionnés dans l'instance'''\n",
    "        mentions = {}\n",
    "        for tweet in self.TweetData:\n",
    "            for user in tweet['mentions']:\n",
    "                if user in mentions.keys():\n",
    "                    mentions[user] += 1\n",
    "                else:\n",
    "                    mentions[user] = 1\n",
    "        return sorted(mentions.items(), key=lambda x:x[1],reverse=True)[:k]\n",
    "    \n",
    "    def top_k_topic(self,k):\n",
    "        '''Retourne le top k des topics les plus mentionnés dans l'instance'''\n",
    "        return sorted(self.pub_per_topic.items(), key=lambda x:x[1],reverse=True)[:k]\n",
    "    \n",
    "    def get_user_tweets(self,user_id:str):\n",
    "        '''Retourne tout les tweets d'un utilisateur existant dans l'instance'''\n",
    "        output = []\n",
    "        for tweet in self.TweetData:\n",
    "            if tweet['author'] == user_id:\n",
    "                output.append(tweet)\n",
    "        return output\n",
    "    \n",
    "    def get_tweets_user_mentionned(self,user_id:str):\n",
    "        '''Retourne tout les tweets où utilisateur existant dans l'instance est mentionné'''\n",
    "        output = []\n",
    "        for tweet in self.TweetData:\n",
    "            for m_id in tweet['mentions']:\n",
    "                if m_id == user_id:\n",
    "                    output.append(tweet)\n",
    "        return output\n",
    "    \n",
    "    def get_users_by_hashtag(self,tag:str):\n",
    "        '''Retourne tout les utilisateurs de ce Hashtag'''\n",
    "        output = {}\n",
    "        for tweet in self.TweetData:\n",
    "            for hashtag in tweet['hashtags']: ##########\n",
    "                if tag == hashtag:\n",
    "                    if tweet['author'] not in output.keys():\n",
    "                        output[tweet['author']] = 1\n",
    "                    else:\n",
    "                        output[tweet['author']] += 1\n",
    "        return output\n",
    "    \n",
    "    def get_author_mentions(self,user_id:str):\n",
    "        '''Retourne toutes les mentions que cet utilisateur a fait'''\n",
    "        output = {}\n",
    "        for tweet in self.TweetData:\n",
    "            if tweet['author'] == user_id:\n",
    "                for m in tweet['mentions']:\n",
    "                    if m not in output.keys():\n",
    "                        output[m] = 1\n",
    "                    else:\n",
    "                        output[m] += 1\n",
    "        return output\n"
   ]
  },
  {
   "cell_type": "markdown",
   "metadata": {},
   "source": [
    "## Démonstration à l'usage:"
   ]
  },
  {
   "cell_type": "code",
   "execution_count": 32,
   "metadata": {},
   "outputs": [],
   "source": [
    "instance1 = InPoDa('versailles_tweets_100.json')"
   ]
  },
  {
   "cell_type": "code",
   "execution_count": 33,
   "metadata": {},
   "outputs": [
    {
     "name": "stdout",
     "output_type": "stream",
     "text": [
      "[('1339914264522461187', 4), ('992904738516717570', 4), ('717025418', 2), ('3169236915', 2), ('372993152', 2)]\n"
     ]
    }
   ],
   "source": [
    "print(instance1.top_k_user(5))"
   ]
  },
  {
   "cell_type": "code",
   "execution_count": 34,
   "metadata": {},
   "outputs": [
    {
     "name": "stdout",
     "output_type": "stream",
     "text": [
      "[('CIV', 2), ('twitter225', 1), ('SupportriceMazo', 1), ('domie', 1), ('jifa', 1)]\n"
     ]
    }
   ],
   "source": [
    "print(instance1.top_k_hashtags(5))"
   ]
  },
  {
   "cell_type": "code",
   "execution_count": 35,
   "metadata": {},
   "outputs": [
    {
     "name": "stdout",
     "output_type": "stream",
     "text": [
      "[('3200704501', 3), ('19811019', 2), ('4827016745', 1), ('254068589', 1), ('781489936184651776', 1)]\n"
     ]
    }
   ],
   "source": [
    "print(instance1.top_k_mentionned_user(5))"
   ]
  },
  {
   "cell_type": "code",
   "execution_count": 36,
   "metadata": {},
   "outputs": [
    {
     "name": "stdout",
     "output_type": "stream",
     "text": [
      "[('versailles', 4), ('goumin', 1), ('des éléphants joueurs', 1), ('même fatigue même', 1), ('mes tontons vous avez fait votre part', 1)]\n"
     ]
    }
   ],
   "source": [
    "print(instance1.top_k_topic(5))"
   ]
  },
  {
   "cell_type": "code",
   "execution_count": 37,
   "metadata": {},
   "outputs": [
    {
     "name": "stdout",
     "output_type": "stream",
     "text": [
      "{'1339914264522461187': 4, '717025418': 2, '992904738516717570': 4, '736523371': 1, '1471684208': 1, '3169236915': 2, '16267684': 1, '60117154': 1, '372993152': 2, '105241852': 1, '2357913366': 1}\n"
     ]
    }
   ],
   "source": [
    "print(instance1.pub_per_users)"
   ]
  },
  {
   "cell_type": "code",
   "execution_count": 38,
   "metadata": {},
   "outputs": [
    {
     "name": "stdout",
     "output_type": "stream",
     "text": [
      "{'twitter225': 1, 'SupportriceMazo': 1, 'domie': 1, 'CIV': 2, 'jifa': 1, 'versailles': 1, 'nocturne': 1, 'appollon': 1}\n"
     ]
    }
   ],
   "source": [
    "print(instance1.pub_per_tag)"
   ]
  },
  {
   "cell_type": "code",
   "execution_count": 39,
   "metadata": {},
   "outputs": [
    {
     "name": "stdout",
     "output_type": "stream",
     "text": [
      "{'goumin': 1, 'des éléphants joueurs': 1, 'même fatigue même': 1, 'mes tontons vous avez fait votre part': 1, 'jo': 1, 'final au moins': 1, 'bravo': 1, 'à vous': 1, 'sommeil là sera compliqué est éliminé des': 1, 'jo ahi': 1, 'peut faire ça': 1, 'juillet journée internationale': 1, 'femme africaine': 1, 'vous': 1, 'avez tt à fait raison': 1, 'silence incompréhensible du gouvernoument': 1, 'des merdias sur ce très': 1, 'dramatique sujet prouve': 1, 'irréfutable leur implication à ce plan diabolique maquillé': 1, 'grande muette': 1, 'rester part quelques irréductibles à': 1, 'les': 1, 'bains dapollon à': 1, 'château': 1, 'versailles': 4, 'rdv aujourdhui aura tenu ses promesses': 1, 'pour': 1, 'les problèmes': 1, 'cachet à': 1, 'je dors comme un bébé': 1, 'réveil': 1, 'pleine forme assuré': 1, 'et': 1, 'sans acoutumances pas comme avec ces béquilles chimiques': 1, 'bonne': 1, 'julie': 1, 'il est temps': 1, 'laisser mijoter': 1, 'un': 1, 'mouton cest bien': 1, 'intelligent que toi': 1, 'im': 1, 'gardens': 1, 'jungle cruise ugc cyrano': 1, 'vient': 1, 'photo à': 1, 'quelquepart': 1, 'lovers accomplice': 1, 'gardien lui parle non': 1}\n"
     ]
    }
   ],
   "source": [
    "print(instance1.pub_per_topic)"
   ]
  },
  {
   "cell_type": "code",
   "execution_count": 40,
   "metadata": {},
   "outputs": [
    {
     "name": "stdout",
     "output_type": "stream",
     "text": [
      "[{'text': '@isabelle170516 @leonna_julie @Steiner2502 Vous avez tt à fait raison! le silence incompréhensible du gouver-noument et des merdias sur ce très important et dramatique sujet prouve de manière irréfutable\\n leur implication à ce plan  diabolique maquillé!', 'cleaned_text': '   Vous avez tt à fait raison le silence incompréhensible du gouvernoument et des merdias sur ce très important et dramatique sujet prouve de manière irréfutable\\n leur implication à ce plan  diabolique maquillé', 'author': '992904738516717570', 'hashtags': [], 'urls': [], 'mentions': ['781489936184651776', '3200704501', '1246352652700659713'], 'textblob': TextBlob(\"   Vous avez tt à fait raison le silence incompréhensible du gouvernoument et des merdias sur ce très important et dramatique sujet prouve de manière irréfutable\n",
      " leur implication à ce plan  diabolique maquillé\"), 'sentiment': Sentiment(polarity=0.4, subjectivity=1.0), 'topics': ['vous', 'avez tt à fait raison', 'silence incompréhensible du gouvernoument', 'des merdias sur ce très', 'dramatique sujet prouve', 'irréfutable leur implication à ce plan diabolique maquillé']}, {'text': '@LynLyna12 @leonna_julie La grande muette continue et continuera de le rester! À part quelques irréductibles à la retraite?', 'cleaned_text': '  La grande muette continue et continuera de le rester  part quelques irréductibles à la retraite', 'author': '992904738516717570', 'hashtags': [], 'urls': [], 'mentions': ['1355767640036438016', '3200704501'], 'textblob': TextBlob(\"  La grande muette continue et continuera de le rester  part quelques irréductibles à la retraite\"), 'sentiment': Sentiment(polarity=0.0, subjectivity=0.0), 'topics': ['grande muette', 'rester part quelques irréductibles à']}, {'text': \"@leonna_julie Le rdv aujourd'hui aura  tenu ses promesses!👍🤗✌️✊🏼✊🏼\\n Pour les problèmes de sommeil  1 cachet à la mélatonine 1,80 mg et je dors comme un bébé!  Réveil en pleine forme assuré!💪🏼 Et sans acoutumances, pas comme avec ces béquilles chimiques!😵\\u200d💫\\nBonne soirée Julie!🌆🌈 https://t.co/F6zvVfWwAf\", 'cleaned_text': ' Le rdv aujourdhui aura  tenu ses promesses\\n Pour les problèmes de sommeil  1 cachet à la mélatonine 180 mg et je dors comme un bébé  Réveil en pleine forme assuré Et sans acoutumances pas comme avec ces béquilles chimiques\\nBonne soirée Julie ', 'author': '992904738516717570', 'hashtags': [], 'urls': ['https://t.co/F6zvVfWwAf'], 'mentions': ['3200704501'], 'textblob': TextBlob(\" Le rdv aujourdhui aura  tenu ses promesses\n",
      " Pour les problèmes de sommeil  1 cachet à la mélatonine 180 mg et je dors comme un bébé  Réveil en pleine forme assuré Et sans acoutumances pas comme avec ces béquilles chimiques\n",
      "Bonne soirée Julie \"), 'sentiment': Sentiment(polarity=0.0, subjectivity=0.0), 'topics': ['rdv aujourdhui aura tenu ses promesses', 'pour', 'les problèmes', 'cachet à', 'je dors comme un bébé', 'réveil', 'pleine forme assuré', 'et', 'sans acoutumances pas comme avec ces béquilles chimiques', 'bonne', 'julie']}, {'text': \"@Polo82810715 @lrestistant73 Un mouton c'est  bien plus intelligent que toi! 🪳\", 'cleaned_text': '  Un mouton cest  bien plus intelligent que toi ', 'author': '992904738516717570', 'hashtags': [], 'urls': [], 'mentions': ['1071056487278104577', '4216955975'], 'textblob': TextBlob(\"  Un mouton cest  bien plus intelligent que toi \"), 'sentiment': Sentiment(polarity=0.8, subjectivity=0.9), 'topics': ['un', 'mouton cest bien', 'intelligent que toi']}]\n"
     ]
    }
   ],
   "source": [
    "print(instance1.get_user_tweets('992904738516717570'))"
   ]
  },
  {
   "cell_type": "code",
   "execution_count": 41,
   "metadata": {},
   "outputs": [
    {
     "name": "stdout",
     "output_type": "stream",
     "text": [
      "[{'text': '@isabelle170516 @leonna_julie @Steiner2502 Vous avez tt à fait raison! le silence incompréhensible du gouver-noument et des merdias sur ce très important et dramatique sujet prouve de manière irréfutable\\n leur implication à ce plan  diabolique maquillé!', 'cleaned_text': '   Vous avez tt à fait raison le silence incompréhensible du gouvernoument et des merdias sur ce très important et dramatique sujet prouve de manière irréfutable\\n leur implication à ce plan  diabolique maquillé', 'author': '992904738516717570', 'hashtags': [], 'urls': [], 'mentions': ['781489936184651776', '3200704501', '1246352652700659713'], 'textblob': TextBlob(\"   Vous avez tt à fait raison le silence incompréhensible du gouvernoument et des merdias sur ce très important et dramatique sujet prouve de manière irréfutable\n",
      " leur implication à ce plan  diabolique maquillé\"), 'sentiment': Sentiment(polarity=0.4, subjectivity=1.0), 'topics': ['vous', 'avez tt à fait raison', 'silence incompréhensible du gouvernoument', 'des merdias sur ce très', 'dramatique sujet prouve', 'irréfutable leur implication à ce plan diabolique maquillé']}, {'text': '@LynLyna12 @leonna_julie La grande muette continue et continuera de le rester! À part quelques irréductibles à la retraite?', 'cleaned_text': '  La grande muette continue et continuera de le rester  part quelques irréductibles à la retraite', 'author': '992904738516717570', 'hashtags': [], 'urls': [], 'mentions': ['1355767640036438016', '3200704501'], 'textblob': TextBlob(\"  La grande muette continue et continuera de le rester  part quelques irréductibles à la retraite\"), 'sentiment': Sentiment(polarity=0.0, subjectivity=0.0), 'topics': ['grande muette', 'rester part quelques irréductibles à']}, {'text': \"@leonna_julie Le rdv aujourd'hui aura  tenu ses promesses!👍🤗✌️✊🏼✊🏼\\n Pour les problèmes de sommeil  1 cachet à la mélatonine 1,80 mg et je dors comme un bébé!  Réveil en pleine forme assuré!💪🏼 Et sans acoutumances, pas comme avec ces béquilles chimiques!😵\\u200d💫\\nBonne soirée Julie!🌆🌈 https://t.co/F6zvVfWwAf\", 'cleaned_text': ' Le rdv aujourdhui aura  tenu ses promesses\\n Pour les problèmes de sommeil  1 cachet à la mélatonine 180 mg et je dors comme un bébé  Réveil en pleine forme assuré Et sans acoutumances pas comme avec ces béquilles chimiques\\nBonne soirée Julie ', 'author': '992904738516717570', 'hashtags': [], 'urls': ['https://t.co/F6zvVfWwAf'], 'mentions': ['3200704501'], 'textblob': TextBlob(\" Le rdv aujourdhui aura  tenu ses promesses\n",
      " Pour les problèmes de sommeil  1 cachet à la mélatonine 180 mg et je dors comme un bébé  Réveil en pleine forme assuré Et sans acoutumances pas comme avec ces béquilles chimiques\n",
      "Bonne soirée Julie \"), 'sentiment': Sentiment(polarity=0.0, subjectivity=0.0), 'topics': ['rdv aujourdhui aura tenu ses promesses', 'pour', 'les problèmes', 'cachet à', 'je dors comme un bébé', 'réveil', 'pleine forme assuré', 'et', 'sans acoutumances pas comme avec ces béquilles chimiques', 'bonne', 'julie']}]\n"
     ]
    }
   ],
   "source": [
    "print(instance1.get_tweets_user_mentionned('3200704501'))"
   ]
  },
  {
   "cell_type": "code",
   "execution_count": 42,
   "metadata": {},
   "outputs": [
    {
     "name": "stdout",
     "output_type": "stream",
     "text": [
      "{'1339914264522461187': 2}\n"
     ]
    }
   ],
   "source": [
    "print(instance1.get_users_by_hashtag('CIV'))"
   ]
  },
  {
   "cell_type": "code",
   "execution_count": 43,
   "metadata": {},
   "outputs": [
    {
     "name": "stdout",
     "output_type": "stream",
     "text": [
      "{'781489936184651776': 1, '3200704501': 3, '1246352652700659713': 1, '1355767640036438016': 1, '1071056487278104577': 1, '4216955975': 1}\n"
     ]
    }
   ],
   "source": [
    "print(instance1.get_author_mentions('992904738516717570'))"
   ]
  },
  {
   "cell_type": "markdown",
   "metadata": {},
   "source": [
    "## Interface Utilisateur du Programme :"
   ]
  },
  {
   "cell_type": "code",
   "execution_count": 59,
   "metadata": {},
   "outputs": [
    {
     "name": "stdout",
     "output_type": "stream",
     "text": [
      "\n"
     ]
    }
   ],
   "source": [
    "def check():\n",
    "    print(entrytext.get())\n",
    "\n",
    "def browse():\n",
    "    path.set(filedialog.askopenfilename(title='Select your JSON'))\n",
    "\n",
    "root = tk.Tk()\n",
    "root.title(\"InPoDa\")\n",
    "\n",
    "entrytext = tk.StringVar()\n",
    "path = tk.StringVar(value='There is no path selected')\n",
    "\n",
    "button_browse = tk.Button(root, text='Browse for JSON', command=browse)\n",
    "label_path = tk.Label(root, textvariable=path)\n",
    "entry = tk.Entry(root, textvariable = entrytext)\n",
    "button_proc = tk.Button(root, text='Process', command=check)\n",
    "\n",
    "button_browse.grid(column=0,row=0)\n",
    "label_path.grid(column=0,row=1)\n",
    "entry.grid(column=0,row=2)\n",
    "button_proc.grid(column=0,row=3)\n",
    "\n",
    "root.mainloop()"
   ]
  }
 ],
 "metadata": {
  "kernelspec": {
   "display_name": "Python 3.10.6 64-bit",
   "language": "python",
   "name": "python3"
  },
  "language_info": {
   "codemirror_mode": {
    "name": "ipython",
    "version": 3
   },
   "file_extension": ".py",
   "mimetype": "text/x-python",
   "name": "python",
   "nbconvert_exporter": "python",
   "pygments_lexer": "ipython3",
   "version": "3.10.6"
  },
  "orig_nbformat": 4,
  "vscode": {
   "interpreter": {
    "hash": "31f2aee4e71d21fbe5cf8b01ff0e069b9275f58929596ceb00d14d90e3e16cd6"
   }
  }
 },
 "nbformat": 4,
 "nbformat_minor": 2
}
